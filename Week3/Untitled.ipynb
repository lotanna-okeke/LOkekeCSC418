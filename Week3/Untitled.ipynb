{
 "cells": [
  {
   "cell_type": "code",
   "execution_count": 56,
   "id": "0d576634-b81b-4333-a343-a5a23902e4e2",
   "metadata": {},
   "outputs": [],
   "source": [
    "import cv2 as cv\n",
    "import matplotlib.pyplot as plt\n",
    "import numpy as np\n",
    "import os\n",
    "import re\n",
    "import tkinter as tk\n",
    "from tkinter import messagebox\n",
    "from PIL import Image, ImageTk  # Import PIL library for image handling"
   ]
  },
  {
   "cell_type": "code",
   "execution_count": 57,
   "id": "97ff4054-63b5-45f3-8a13-7ba3de6807b1",
   "metadata": {},
   "outputs": [],
   "source": [
    "#using an array of string to store the authentication details\n",
    "usernames = ['fatima','aj','kobi','wendy','sophia','yinda','tete','sope','keisha','george']\n",
    "passwords = ['0000','1111','2222','3333','4444','5555','6666','7777','8888','9999']\n",
    "contentsOfFolder = \"\"\n",
    "folders = []"
   ]
  },
  {
   "cell_type": "code",
   "execution_count": 58,
   "id": "4fbdc0bd-a356-4904-93fa-e430ca1e76a4",
   "metadata": {},
   "outputs": [],
   "source": [
    "def getIndex(name):\n",
    "    try:\n",
    "        index = usernames.index(name)\n",
    "        return index\n",
    "    except ValueError:\n",
    "        return -1"
   ]
  },
  {
   "cell_type": "code",
   "execution_count": 59,
   "id": "c5a95b28-5450-43b9-aef5-ea5b5b84118d",
   "metadata": {},
   "outputs": [],
   "source": [
    "# Function to authenticate username and password\n",
    "def authenticate(username, password):\n",
    "    index = getIndex(username)\n",
    "    if passwords[index] == password:\n",
    "        return True\n",
    "    else:\n",
    "        return False"
   ]
  },
  {
   "cell_type": "code",
   "execution_count": 60,
   "id": "1ddb599c-4f8a-4868-a87f-5cf85b64e76f",
   "metadata": {},
   "outputs": [
    {
     "name": "stdout",
     "output_type": "stream",
     "text": [
      "True\n"
     ]
    }
   ],
   "source": [
    "print(authenticate('kobi','2222'))"
   ]
  },
  {
   "cell_type": "code",
   "execution_count": 61,
   "id": "2c678911-ebf7-446b-8de0-d794697e9d8e",
   "metadata": {},
   "outputs": [
    {
     "name": "stdout",
     "output_type": "stream",
     "text": [
      "[]\n"
     ]
    }
   ],
   "source": [
    "def list_folder_contents(folder_path, name):\n",
    "    folder_content = \"\"\n",
    "    try:\n",
    "        contents = os.listdir(folder_path)\n",
    "        print(\"Contents of \" + name + \" folder:\")\n",
    "        for item in contents:\n",
    "            print(item)\n",
    "            folders.append(item)\n",
    "            folder_content = item + \"  \" + folder_content\n",
    "            # print(folder_content)\n",
    "        return folder_content\n",
    "    except FileNotFoundError:\n",
    "        print(f\"Error: Folder '{folder_path}' not found.\")\n",
    "    except PermissionError:\n",
    "        print(f\"Error: Permission denied for folder '{folder_path}'.\")\n",
    "\n",
    "# Example usage:\n",
    "# folder_path = 'img'\n",
    "# contentsOfFolder = list_folder_contents(folder_path, 'img')\n",
    "print(folders)"
   ]
  },
  {
   "cell_type": "code",
   "execution_count": 55,
   "id": "296b3ec6-7351-413b-ac84-0b9266b6429c",
   "metadata": {},
   "outputs": [],
   "source": [
    "#function to get image format\n",
    "def image(name):\n",
    "    path = 'img/' + name + '.jpg'\n",
    "    img = cv.imread(path)\n",
    "    \n",
    "    formats = ['png', 'jpeg', 'jpg']\n",
    "    for i in formats:\n",
    "        #to ensure we get the write format in file\n",
    "        path = 'img/' + name + '.' + i\n",
    "        img = cv.imread(path,0)\n",
    "        #use this to display img in grayscale mode\n",
    "        # img = cv2.imread(path,0)\n",
    "        if img is None:\n",
    "            continue\n",
    "        else:\n",
    "            break\n",
    "\n",
    "    return img"
   ]
  },
  {
   "cell_type": "code",
   "execution_count": null,
   "id": "1e6f25da-edf2-45b1-9c7d-eee96b06e462",
   "metadata": {},
   "outputs": [],
   "source": [
    "def getImage():\n",
    "    list_folder_contents('img', 'img')\n",
    "    folder = input(\"Enter the folder name from the above listed folder\")\n",
    "    dir = \"img/\"+folder\n",
    "    contentsOfFolder = list_folder_contents(dir, folder)\n",
    "    name = input(\"Enter the picture name (WITHOUT THE FILE EXTENSION- ie .jpeg)\")\n",
    "    path = folder + \"/\" + name\n",
    "    print(path)\n",
    "    # img = \n",
    "    img = image(path)\n",
    "    if img is None:\n",
    "        return \"Error: Could not read the image.\"\n",
    "    # else:\n",
    "    #     return \"Yes\"\n",
    "\n",
    "    return img\n"
   ]
  },
  {
   "cell_type": "code",
   "execution_count": 36,
   "id": "e7cb4bde-c19f-42d8-98e5-d57c3069a5f9",
   "metadata": {},
   "outputs": [],
   "source": [
    "def displayOriginal(image_path):\n",
    "    #load & display the original img\n",
    "    image = Image.open(image_path)\n",
    "    photo = ImageTk.PhotoImage(image)\n",
    "    image_label.config(image=photo)\n",
    "    image_label.image = photo"
   ]
  },
  {
   "cell_type": "code",
   "execution_count": 37,
   "id": "6e2eef3b-f3c6-41ba-b03d-eb2c4036704a",
   "metadata": {},
   "outputs": [],
   "source": [
    "def displayOthers(image_path):\n",
    "    #load & display the other img\n",
    "    image = Image.open(image_path)\n",
    "    photo = ImageTk.PhotoImage(image)\n",
    "    image_label2.config(image=photo)\n",
    "    image_label2.image = photo"
   ]
  },
  {
   "cell_type": "code",
   "execution_count": 38,
   "id": "8268542f-9b83-40c5-a7b2-7a609133e4cf",
   "metadata": {},
   "outputs": [],
   "source": [
    "def visualiseColorSpaces(image):\n",
    "    channel = int(input('Enter: \\n1 to see blue,\\n2 to see green, \\n3 to see red\\n'))\n",
    "    B,G,R = cv2.split(image)\n",
    "    if(channel == 1):\n",
    "        displayOthers(B)\n",
    "    elif(channel == 2):\n",
    "        displayOthers(G)\n",
    "    elif(channel == 3):\n",
    "        displayOthers(R)\n",
    "    else:\n",
    "        return \"Entered invalid value, Process terminated\"\n",
    "    return \"Process successful\""
   ]
  },
  {
   "cell_type": "code",
   "execution_count": 39,
   "id": "f7ba1bd3-ebfb-4919-852e-0e1d7486d01a",
   "metadata": {},
   "outputs": [],
   "source": [
    "def addition(image1):\n",
    "    image2 = cv2.imread('img/lotanna.jpeg')\n",
    "\n",
    "    image1 = cv2.resize(image1, (500,400))\n",
    "    image2 = cv2.resize(image2, (500,400))\n",
    "\n",
    "    addImage = cv2.addWeighted(image1, 0.5, image2, 0.5, 0)\n",
    "\n",
    "    displayOthers(addImage)"
   ]
  },
  {
   "cell_type": "code",
   "execution_count": 40,
   "id": "9b9368a5-097a-4600-86f6-533db7af36c7",
   "metadata": {},
   "outputs": [],
   "source": [
    "def subtraction(image1):\n",
    "    image2 = cv2.imread('img/lotanna.jpeg')\n",
    "\n",
    "    image1 = cv2.resize(image1, (500,400))\n",
    "    image2 = cv2.resize(image2, (500,400))\n",
    "\n",
    "    sub = cv2.subtract(image1, image2)\n",
    "\n",
    "    displayOthers(sub)\n",
    "    return \"Process successful\"\n",
    "    "
   ]
  },
  {
   "cell_type": "code",
   "execution_count": 41,
   "id": "93d64dfb-18a5-4df6-ae05-a6a24569e28c",
   "metadata": {},
   "outputs": [],
   "source": [
    "def brightnessAndContrast(image):\n",
    "    brightness = 5\n",
    "    contrast = 1.5\n",
    "    image2 = cv2.addWeighted(image, contrast, np.zeros(image.shape, image.dtype), 0, brightness)\n",
    "\n",
    "    #plot it\n",
    "    displayOthers(image2)\n",
    "    return \"Process successful\""
   ]
  },
  {
   "cell_type": "code",
   "execution_count": 42,
   "id": "f027f723-a915-432b-a471-17cc250f92d9",
   "metadata": {},
   "outputs": [],
   "source": [
    "def sharpening(image):\n",
    "    kernel = np.array([[0,-1,0], [-1,5,-1], [0,-1,0]])\n",
    "    image2 = cv2.filter2D(image, -1, kernel)\n",
    "    displayOthers(image2)\n",
    "    return \"Process successful\""
   ]
  },
  {
   "cell_type": "code",
   "execution_count": 43,
   "id": "8d3ac285-73a9-422f-91ea-8dd9fea4a32e",
   "metadata": {},
   "outputs": [],
   "source": [
    "def removeNoise(image):\n",
    "    image2 = cv2.medianBlur(image, 15)\n",
    "    displayOthers(image2)\n",
    "    return \"Process successful\"\n",
    "    "
   ]
  },
  {
   "cell_type": "code",
   "execution_count": 44,
   "id": "23bc044a-48b7-49fc-aa29-45f2e26761db",
   "metadata": {},
   "outputs": [],
   "source": [
    "def scaling(image):\n",
    "    image2 = cv2.resize(image,None, fx=2, fy=2)\n",
    "    displayOthers(image2)\n",
    "    return \"Process successful\"\n",
    "    "
   ]
  },
  {
   "cell_type": "code",
   "execution_count": 45,
   "id": "8c33dd16-ffa4-42e3-ad5a-045d478e823a",
   "metadata": {},
   "outputs": [],
   "source": [
    "def inverse(image):\n",
    "    image2 = 255-image\n",
    "    displayOthers(image2)\n",
    "    return \"Process successful\"\n",
    "    "
   ]
  },
  {
   "cell_type": "code",
   "execution_count": 46,
   "id": "d49d40f8-1b0e-4109-bc85-de5081b80199",
   "metadata": {},
   "outputs": [],
   "source": [
    "def operations(image):\n",
    "    operation = operation_entry.get()\n",
    "    displayOriginal(image)\n",
    "    if(operation == 1):\n",
    "        visualiseColorSpaces(img)\n",
    "    elif(operation == 2):\n",
    "        addition(img)\n",
    "    elif(operation == 3):\n",
    "        subtraction(img)\n",
    "    elif(operation == 4):\n",
    "        brightnessAndContrast(img)\n",
    "    elif(operation == 5):\n",
    "        sharpening(img)\n",
    "    elif(operation == 6):\n",
    "        removeNoise(img)\n",
    "    elif(operation == 7):\n",
    "        scaling(img)\n",
    "    elif(operation == 8):\n",
    "        inverse(img)"
   ]
  },
  {
   "cell_type": "code",
   "execution_count": 47,
   "id": "c5d393dd-bc53-474a-b7f3-3611f2061237",
   "metadata": {},
   "outputs": [],
   "source": [
    "# Function to handle login button click\n",
    "def login_clicked():\n",
    "    username = username_entry.get()\n",
    "    password = password_entry.get()\n",
    "    if authenticate(username, password):\n",
    "        messagebox.showinfo(\"Login Successful\", \"Welcome, \" + username)\n",
    "\n",
    "        #using the image function to end process if image cant be gotten\n",
    "        img = getImage()\n",
    "        if img is None:\n",
    "            return \"Error: Could not read the image.\"\n",
    "        \n",
    "        # Code to display images and perform enhancements\n",
    "        operations(img)\n",
    "    else:\n",
    "        messagebox.showerror(\"Login Failed\", \"Invalid username or password\")\n",
    "\n"
   ]
  },
  {
   "cell_type": "code",
   "execution_count": 53,
   "id": "89105fa4-3a96-4904-900a-5715b66f8015",
   "metadata": {},
   "outputs": [],
   "source": [
    "# Create the main window\n",
    "root = tk.Tk()\n",
    "root.title(\"YSMA Art Collection Viewer\")\n",
    "\n",
    "x = 0\n",
    "\n",
    "# Create username label and entry field\n",
    "username_label = tk.Label(root, text=\"Username:\")\n",
    "username_label.grid(row=x, column=0)\n",
    "username_entry = tk.Entry(root)\n",
    "username_entry.grid(row=x, column=1)\n",
    "\n",
    "x+=1\n",
    "\n",
    "# Create password label and entry field\n",
    "password_label = tk.Label(root, text=\"Password:\")\n",
    "password_label.grid(row=x, column=0)\n",
    "password_entry = tk.Entry(root, show=\"*\")\n",
    "password_entry.grid(row=x, column=1)\n",
    "\n",
    "x+=1\n",
    "\n",
    "#create folder label and entry field\n",
    "\n",
    "# Create labels for the operations and entry field\n",
    "operation_label = tk.Label(root, text=\"Enter a number to perform an operation: 1. to visualise color spaces, 2. to add images, 3. to subtract images, 4. for brightness and contrast, 5. for sharpening, 6. to remove noise, 7. to scale and, 8. to inverse\")\n",
    "operation_label.grid(row=x, column=0, columnspan=4)\n",
    "operation_entry = tk.Entry(root)\n",
    "operation_entry.grid(row=x+2, column=0) #x+2\n",
    "\n",
    "x+=3\n",
    "\n",
    "\n",
    "# Create login button\n",
    "login_button = tk.Button(root, text=\"Login\", command=login_clicked)\n",
    "login_button.grid(row=x, column=0, columnspan=2)\n",
    "\n",
    "x+=1\n",
    "\n",
    "# Create label to display image\n",
    "image_label = tk.Label(root)\n",
    "image_label.grid(row=x, column=0, columnspan=2)\n",
    "\n",
    "# Create label to display image\n",
    "image_label2 = tk.Label(root)\n",
    "image_label2.grid(row=x, column=2, columnspan=2)\n",
    "\n",
    "# Start the GUI event loop\n",
    "root.mainloop()\n"
   ]
  },
  {
   "cell_type": "code",
   "execution_count": null,
   "id": "0d20f57b-4176-41bf-921d-9411facfa1d4",
   "metadata": {},
   "outputs": [],
   "source": []
  }
 ],
 "metadata": {
  "kernelspec": {
   "display_name": "Python 3 (ipykernel)",
   "language": "python",
   "name": "python3"
  },
  "language_info": {
   "codemirror_mode": {
    "name": "ipython",
    "version": 3
   },
   "file_extension": ".py",
   "mimetype": "text/x-python",
   "name": "python",
   "nbconvert_exporter": "python",
   "pygments_lexer": "ipython3",
   "version": "3.12.0"
  }
 },
 "nbformat": 4,
 "nbformat_minor": 5
}
