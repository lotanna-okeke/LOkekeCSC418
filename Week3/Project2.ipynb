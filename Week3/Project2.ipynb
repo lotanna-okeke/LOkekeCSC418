{
 "cells": [
  {
   "cell_type": "code",
   "execution_count": 1,
   "id": "4b034ec8-8a28-4794-b3a5-31ae9e91568e",
   "metadata": {},
   "outputs": [
    {
     "name": "stderr",
     "output_type": "stream",
     "text": [
      "2024-04-03 09:02:49.007 Python[59051:4363393] WARNING: Secure coding is not enabled for restorable state! Enable secure coding by implementing NSApplicationDelegate.applicationSupportsSecureRestorableState: and returning YES.\n"
     ]
    }
   ],
   "source": [
    "import tkinter as tk\n",
    "from tkinter import messagebox\n",
    "\n",
    "# Function to authenticate username and password\n",
    "def authenticate(username, password):\n",
    "    # Your authentication logic here\n",
    "    # For example, compare with stored username-password pairs\n",
    "    if username == \"admin\" and password == \"password\":\n",
    "        return True\n",
    "    else:\n",
    "        return False\n",
    "\n",
    "# Function to perform image enhancements\n",
    "def enhance_image():\n",
    "    # Your image enhancement logic here\n",
    "    pass\n",
    "\n",
    "# Function to handle login button click\n",
    "def login_clicked():\n",
    "    username = username_entry.get()\n",
    "    password = password_entry.get()\n",
    "    if authenticate(username, password):\n",
    "        messagebox.showinfo(\"Login Successful\", \"Welcome, \" + username)\n",
    "        # Code to display images and perform enhancements\n",
    "        enhance_image()  # Placeholder for image enhancement function\n",
    "    else:\n",
    "        messagebox.showerror(\"Login Failed\", \"Invalid username or password\")\n",
    "\n",
    "# Create the main window\n",
    "root = tk.Tk()\n",
    "root.title(\"YSMA Art Collection Viewer\")\n",
    "\n",
    "# Create username label and entry field\n",
    "username_label = tk.Label(root, text=\"Username:\")\n",
    "username_label.grid(row=0, column=0)\n",
    "username_entry = tk.Entry(root)\n",
    "username_entry.grid(row=0, column=1)\n",
    "\n",
    "# Create password label and entry field\n",
    "password_label = tk.Label(root, text=\"Password:\")\n",
    "password_label.grid(row=1, column=0)\n",
    "password_entry = tk.Entry(root, show=\"*\")\n",
    "password_entry.grid(row=1, column=1)\n",
    "\n",
    "# Create login button\n",
    "login_button = tk.Button(root, text=\"Login\", command=login_clicked)\n",
    "login_button.grid(row=2, column=0, columnspan=2)\n",
    "\n",
    "# Start the GUI event loop\n",
    "root.mainloop()\n"
   ]
  },
  {
   "cell_type": "code",
   "execution_count": null,
   "id": "c565ef1b-6804-4677-bfea-0203653354b0",
   "metadata": {},
   "outputs": [],
   "source": []
  }
 ],
 "metadata": {
  "kernelspec": {
   "display_name": "Python 3 (ipykernel)",
   "language": "python",
   "name": "python3"
  },
  "language_info": {
   "codemirror_mode": {
    "name": "ipython",
    "version": 3
   },
   "file_extension": ".py",
   "mimetype": "text/x-python",
   "name": "python",
   "nbconvert_exporter": "python",
   "pygments_lexer": "ipython3",
   "version": "3.12.0"
  }
 },
 "nbformat": 4,
 "nbformat_minor": 5
}
