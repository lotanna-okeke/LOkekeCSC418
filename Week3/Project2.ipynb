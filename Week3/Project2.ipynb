{
 "cells": [
  {
   "cell_type": "code",
   "execution_count": 20,
   "id": "4b034ec8-8a28-4794-b3a5-31ae9e91568e",
   "metadata": {},
   "outputs": [],
   "source": [
    "import cv2 as cv\n",
    "import matplotlib.pyplot as plt\n",
    "import numpy as np\n",
    "import os\n",
    "import re\n",
    "import tkinter as tk\n",
    "from tkinter import messagebox\n",
    "from PIL import Image, ImageTk  # Import PIL library for image handling"
   ]
  },
  {
   "cell_type": "code",
   "execution_count": null,
   "id": "8c53cad2-8aa7-4270-bd53-f6dca00f3341",
   "metadata": {},
   "outputs": [],
   "source": []
  },
  {
   "cell_type": "code",
   "execution_count": 21,
   "id": "ba138bae-d9ee-43c6-9d74-fb2dadc0d0b3",
   "metadata": {},
   "outputs": [],
   "source": [
    "# Function to authenticate username and password\n",
    "def authenticate(username, password):\n",
    "    # Your authentication logic here\n",
    "    # For example, compare with stored username-password pairs\n",
    "    if username == \"admin\" and password == \"password\":\n",
    "        return True\n",
    "    else:\n",
    "        return False\n",
    "\n"
   ]
  },
  {
   "cell_type": "code",
   "execution_count": 22,
   "id": "c565ef1b-6804-4677-bfea-0203653354b0",
   "metadata": {},
   "outputs": [],
   "source": [
    "# Function to perform image enhancements\n",
    "def enhance_image():\n",
    "    # Load and display image\n",
    "    image_path = \"img/modern/red sky.jpg\"  # Change to the path of your image\n",
    "    image = Image.open(image_path)\n",
    "    photo = ImageTk.PhotoImage(image)\n",
    "    image_label.config(image=photo)\n",
    "    image_label.image = photo"
   ]
  },
  {
   "cell_type": "code",
   "execution_count": 23,
   "id": "e838e7da-ee1a-4b13-a873-685ef1f4f805",
   "metadata": {},
   "outputs": [],
   "source": [
    "# Function to perform image enhancements\n",
    "def enhance_image2():\n",
    "    # Load and display image\n",
    "    image_path = \"img/modern/unknown.jpg\"  # Change to the path of your image\n",
    "    image = Image.open(image_path)\n",
    "    photo = ImageTk.PhotoImage(image)\n",
    "    image_label2.config(image=photo)\n",
    "    image_label2.image = photo"
   ]
  },
  {
   "cell_type": "code",
   "execution_count": 24,
   "id": "74d68a8d-b93e-4713-89aa-ecc18b773882",
   "metadata": {},
   "outputs": [],
   "source": [
    "# Function to handle login button click\n",
    "def login_clicked():\n",
    "    username = username_entry.get()\n",
    "    password = password_entry.get()\n",
    "    if authenticate(username, password):\n",
    "        messagebox.showinfo(\"Login Successful\", \"Welcome, \" + username)\n",
    "        # Code to display images and perform enhancements\n",
    "        enhance_image()  # Placeholder for image enhancement function\n",
    "        enhance_image2()  # Placeholder for image enhancement function\n",
    "    else:\n",
    "        messagebox.showerror(\"Login Failed\", \"Invalid username or password\")\n",
    "\n"
   ]
  },
  {
   "cell_type": "code",
   "execution_count": null,
   "id": "2a98b624-b0f9-4aa9-b50f-3937c4a48545",
   "metadata": {},
   "outputs": [],
   "source": [
    "# Create the main window\n",
    "root = tk.Tk()\n",
    "root.title(\"YSMA Art Collection Viewer\")\n",
    "\n",
    "# Create username label and entry field\n",
    "username_label = tk.Label(root, text=\"Username:\")\n",
    "username_label.grid(row=0, column=0)\n",
    "username_entry = tk.Entry(root)\n",
    "username_entry.grid(row=0, column=1)\n",
    "\n",
    "# Create password label and entry field\n",
    "password_label = tk.Label(root, text=\"Password:\")\n",
    "password_label.grid(row=1, column=0)\n",
    "password_entry = tk.Entry(root, show=\"*\")\n",
    "password_entry.grid(row=1, column=1)\n",
    "\n",
    "# Create login button\n",
    "login_button = tk.Button(root, text=\"Login\", command=login_clicked)\n",
    "login_button.grid(row=2, column=0, columnspan=2)\n",
    "\n",
    "# Create label to display image\n",
    "image_label = tk.Label(root)\n",
    "image_label.grid(row=3, column=0, columnspan=2)\n",
    "\n",
    "# Create label to display image\n",
    "image_label2 = tk.Label(root)\n",
    "image_label2.grid(row=3, column=2, columnspan=2)\n",
    "\n",
    "# Start the GUI event loop\n",
    "root.mainloop()\n"
   ]
  },
  {
   "cell_type": "code",
   "execution_count": null,
   "id": "c0d5309f-ae65-47f2-8260-3b8d5686cf13",
   "metadata": {},
   "outputs": [],
   "source": []
  }
 ],
 "metadata": {
  "kernelspec": {
   "display_name": "Python 3 (ipykernel)",
   "language": "python",
   "name": "python3"
  },
  "language_info": {
   "codemirror_mode": {
    "name": "ipython",
    "version": 3
   },
   "file_extension": ".py",
   "mimetype": "text/x-python",
   "name": "python",
   "nbconvert_exporter": "python",
   "pygments_lexer": "ipython3",
   "version": "3.12.0"
  }
 },
 "nbformat": 4,
 "nbformat_minor": 5
}
