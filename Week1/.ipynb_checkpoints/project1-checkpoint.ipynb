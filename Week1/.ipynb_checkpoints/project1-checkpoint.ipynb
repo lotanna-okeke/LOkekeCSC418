{
 "cells": [
  {
   "cell_type": "code",
   "execution_count": 8,
   "id": "d58adbec-3101-46ed-a276-f7cefe507bc5",
   "metadata": {},
   "outputs": [],
   "source": [
    "#using an array of string to store the names\n",
    "firstNames = ['Enase','Kingsley','Chris','Donatus','Ikechukwu','Sola','Darington','Nneka','Adaora','Peter']\n",
    "lastNames = ['Okonedo','Ukaoha','Ogbechie','Ogbuike','Obiaya','Oni','Agholor','Okekearu','Onaga','Bamkole']"
   ]
  },
  {
   "cell_type": "code",
   "execution_count": 9,
   "id": "38e4a6ca-af5e-4e21-af9e-2b3fbec4ff02",
   "metadata": {},
   "outputs": [],
   "source": [
    "#function to get the length of a surname\n",
    "def password (input):\n",
    "    return len(input)"
   ]
  },
  {
   "cell_type": "code",
   "execution_count": null,
   "id": "c89865f5-101b-4449-994f-549e815c9117",
   "metadata": {},
   "outputs": [],
   "source": [
    "#function to verify login\n",
    "def verify(arr, target):\n",
    "    try:\n",
    "        index = arr.index(target)\n",
    "        return index\n",
    "    except ValueError:\n",
    "        return -1"
   ]
  },
  {
   "cell_type": "code",
   "execution_count": null,
   "id": "d242a707-518c-46a4-b2c4-61c8b69ac9e6",
   "metadata": {},
   "outputs": [],
   "source": [
    "import cv2\n",
    "\n",
    "name = 'food'\n",
    "path = 'img/' + name + '.jpeg'\n",
    "\n",
    "img = cv2.imread(path)\n",
    "if img is None:\n",
    "    print(\"Error: Could not read the image.\")\n",
    "else:\n",
    "    print(\"Image loaded successfully.\")"
   ]
  }
 ],
 "metadata": {
  "kernelspec": {
   "display_name": "Python 3 (ipykernel)",
   "language": "python",
   "name": "python3"
  },
  "language_info": {
   "codemirror_mode": {
    "name": "ipython",
    "version": 3
   },
   "file_extension": ".py",
   "mimetype": "text/x-python",
   "name": "python",
   "nbconvert_exporter": "python",
   "pygments_lexer": "ipython3",
   "version": "3.12.0"
  }
 },
 "nbformat": 4,
 "nbformat_minor": 5
}
