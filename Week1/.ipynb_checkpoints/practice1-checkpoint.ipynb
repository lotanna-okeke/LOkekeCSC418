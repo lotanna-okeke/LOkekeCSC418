{
 "cells": [
  {
   "cell_type": "code",
   "execution_count": 1,
   "id": "3888a6b5-2a87-4e2b-b861-97af9b18c202",
   "metadata": {},
   "outputs": [],
   "source": [
    "#Import opencv\n",
    "import cv2"
   ]
  },
  {
   "cell_type": "code",
   "execution_count": 2,
   "id": "fa0f7413-e958-4558-85e9-177eb0678be0",
   "metadata": {},
   "outputs": [],
   "source": [
    "#path\n",
    "path = 'img/food.jpeg'"
   ]
  },
  {
   "cell_type": "code",
   "execution_count": 3,
   "id": "84020afe-5846-4614-9816-ac58af98ee7d",
   "metadata": {},
   "outputs": [],
   "source": [
    "#reading img using imread() func\n",
    "img = cv2.imread(path)"
   ]
  },
  {
   "cell_type": "code",
   "execution_count": 4,
   "id": "e390d028-d718-40d3-87f1-a23149fd01a7",
   "metadata": {},
   "outputs": [],
   "source": [
    "#window name in which img is displayed\n",
    "window_name = 'Display Image'"
   ]
  },
  {
   "cell_type": "code",
   "execution_count": 5,
   "id": "f2d519ac-9711-40ad-bf79-9bab33f6a751",
   "metadata": {},
   "outputs": [],
   "source": [
    "#Display image\n",
    "cv2.imshow(window_name, img)"
   ]
  },
  {
   "cell_type": "code",
   "execution_count": 6,
   "id": "09d8cb37-a17b-4f25-8795-84034d6e8b38",
   "metadata": {},
   "outputs": [
    {
     "name": "stderr",
     "output_type": "stream",
     "text": [
      "2024-03-17 21:02:24.924 Python[2066:67555] WARNING: Secure coding is not enabled for restorable state! Enable secure coding by implementing NSApplicationDelegate.applicationSupportsSecureRestorableState: and returning YES.\n"
     ]
    },
    {
     "data": {
      "text/plain": [
       "113"
      ]
     },
     "execution_count": 6,
     "metadata": {},
     "output_type": "execute_result"
    }
   ],
   "source": [
    "#Hold the window\n",
    "cv2.waitKey(0)"
   ]
  },
  {
   "cell_type": "code",
   "execution_count": 7,
   "id": "07f477cd-10ba-48d3-baa8-c116f95ad798",
   "metadata": {},
   "outputs": [],
   "source": [
    "#remove/delete created GUI window from screen and memory\n",
    "cv2.destroyAllWindows()"
   ]
  },
  {
   "cell_type": "code",
   "execution_count": null,
   "id": "bcc1aec2-3ad7-4c89-b9a2-52f550eda8ce",
   "metadata": {},
   "outputs": [],
   "source": []
  }
 ],
 "metadata": {
  "kernelspec": {
   "display_name": "Python 3 (ipykernel)",
   "language": "python",
   "name": "python3"
  },
  "language_info": {
   "codemirror_mode": {
    "name": "ipython",
    "version": 3
   },
   "file_extension": ".py",
   "mimetype": "text/x-python",
   "name": "python",
   "nbconvert_exporter": "python",
   "pygments_lexer": "ipython3",
   "version": "3.12.0"
  }
 },
 "nbformat": 4,
 "nbformat_minor": 5
}
