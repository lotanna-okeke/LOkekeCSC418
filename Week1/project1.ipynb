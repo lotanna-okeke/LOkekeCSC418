{
 "cells": [
  {
   "cell_type": "code",
   "execution_count": 8,
   "id": "d58adbec-3101-46ed-a276-f7cefe507bc5",
   "metadata": {},
   "outputs": [],
   "source": [
    "#using an array of string to store the names\n",
    "firstNames = ['Enase','Kingsley','Chris','Donatus','Ikechukwu','Sola','Darington','Nneka','Adaora','Peter']\n",
    "lastNames = ['Okonedo','Ukaoha','Ogbechie','Ogbuike','Obiaya','Oni','Agholor','Okekearu','Onaga','Bamkole']"
   ]
  },
  {
   "cell_type": "code",
   "execution_count": 9,
   "id": "38e4a6ca-af5e-4e21-af9e-2b3fbec4ff02",
   "metadata": {},
   "outputs": [],
   "source": [
    "#function to get the length of a surname\n",
    "def password (input):\n",
    "    return len(input)"
   ]
  },
  {
   "cell_type": "code",
   "execution_count": 13,
   "id": "c89865f5-101b-4449-994f-549e815c9117",
   "metadata": {},
   "outputs": [],
   "source": [
    "#function to get username index\n",
    "def verify(arr, target):\n",
    "    try:\n",
    "        index = arr.index(target)\n",
    "        return index\n",
    "    except ValueError:\n",
    "        return -1"
   ]
  },
  {
   "cell_type": "code",
   "execution_count": 26,
   "id": "eaa1ea41-7f8c-475f-867c-d6520c74fe4f",
   "metadata": {},
   "outputs": [
    {
     "name": "stdin",
     "output_type": "stream",
     "text": [
      "Enter username:  Sola\n",
      "Enter password:  3\n"
     ]
    },
    {
     "data": {
      "text/plain": [
       "'Sola Oni'"
      ]
     },
     "execution_count": 26,
     "metadata": {},
     "output_type": "execute_result"
    }
   ],
   "source": [
    "#function for login \n",
    "def login():\n",
    "    username = input('Enter username: ')\n",
    "    try:\n",
    "        pword = int(input('Enter password: '))\n",
    "    except ValueError:\n",
    "        print(\"Error: Password must be an integer.\")\n",
    "\n",
    "    \n",
    "    #getting index of user if user exists\n",
    "    validUser = verify(firstNames, username)\n",
    "    \n",
    "    #ending process if username is invalid\n",
    "    if(validUser == -1):\n",
    "        return \"Invalid Username. Process terminated\"\n",
    "\n",
    "    #userName is valid\n",
    "    \n",
    "    #getting lastname\n",
    "    surname = lastNames[validUser]\n",
    "    # print(password(surname))\n",
    "\n",
    "    #verifying password\n",
    "    if(pword != password(surname)):\n",
    "        return \"Invalid password. Process terminated\"\n",
    "\n",
    "    return username+\" \"+surname\n",
    "\n",
    "login()\n",
    "    "
   ]
  },
  {
   "cell_type": "code",
   "execution_count": null,
   "id": "d242a707-518c-46a4-b2c4-61c8b69ac9e6",
   "metadata": {},
   "outputs": [],
   "source": [
    "import cv2\n",
    "\n",
    "name = 'food'\n",
    "path = 'img/' + name + '.jpeg'\n",
    "\n",
    "img = cv2.imread(path)\n",
    "if img is None:\n",
    "    print(\"Error: Could not read the image.\")\n",
    "else:\n",
    "    print(\"Image loaded successfully.\")"
   ]
  }
 ],
 "metadata": {
  "kernelspec": {
   "display_name": "Python 3 (ipykernel)",
   "language": "python",
   "name": "python3"
  },
  "language_info": {
   "codemirror_mode": {
    "name": "ipython",
    "version": 3
   },
   "file_extension": ".py",
   "mimetype": "text/x-python",
   "name": "python",
   "nbconvert_exporter": "python",
   "pygments_lexer": "ipython3",
   "version": "3.12.0"
  }
 },
 "nbformat": 4,
 "nbformat_minor": 5
}
