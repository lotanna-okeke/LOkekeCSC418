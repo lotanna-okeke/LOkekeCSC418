{
 "cells": [
  {
   "cell_type": "code",
   "execution_count": 2,
   "id": "d58adbec-3101-46ed-a276-f7cefe507bc5",
   "metadata": {},
   "outputs": [],
   "source": [
    "#using an array of string to store the names\n",
    "firstNames = ['Enase','Kingsley','Chris','Donatus','Ikechukwu','Sola','Darington','Nneka','Adaora','Peter']\n",
    "lastNames = ['Okonedo','Ukaoha','Ogbechie','Ogbuike','Obiaya','Oni','Agholor','Okekearu','Onaga','Bamkole']"
   ]
  },
  {
   "cell_type": "code",
   "execution_count": 3,
   "id": "38e4a6ca-af5e-4e21-af9e-2b3fbec4ff02",
   "metadata": {},
   "outputs": [],
   "source": [
    "#function to get the length of a surname\n",
    "def password (input):\n",
    "    return len(input)"
   ]
  },
  {
   "cell_type": "code",
   "execution_count": 4,
   "id": "c89865f5-101b-4449-994f-549e815c9117",
   "metadata": {},
   "outputs": [],
   "source": [
    "#function to get username index\n",
    "def verify(arr, target):\n",
    "    try:\n",
    "        index = arr.index(target)\n",
    "        return index\n",
    "    except ValueError:\n",
    "        return -1"
   ]
  },
  {
   "cell_type": "code",
   "execution_count": 5,
   "id": "d2f25e04-eba1-4fbf-a8b5-a57ae2223ea9",
   "metadata": {},
   "outputs": [],
   "source": [
    "import cv2\n",
    "#function to get image format\n",
    "def image(name):\n",
    "    path = 'img/' + name + '.jpg'\n",
    "    img = cv2.imread(path)\n",
    "    \n",
    "    formats = ['png', 'jpeg', 'jpg']\n",
    "    for i in formats:\n",
    "        #to ensure we get the write format in file\n",
    "        currentPath = 'img/' + name + '.' + i\n",
    "        img = cv2.imread(path)\n",
    "        #use this to display img in grayscale mode\n",
    "        # img = cv2.imread(path,0)\n",
    "        if img is None:\n",
    "            continue\n",
    "\n",
    "    return img"
   ]
  },
  {
   "cell_type": "code",
   "execution_count": null,
   "id": "eaa1ea41-7f8c-475f-867c-d6520c74fe4f",
   "metadata": {},
   "outputs": [
    {
     "name": "stdin",
     "output_type": "stream",
     "text": [
      "Enter username (start with capital letter please):  Chris\n",
      "Enter password:  8\n"
     ]
    },
    {
     "name": "stdout",
     "output_type": "stream",
     "text": [
      "Chris Ogbechie logged in successfully\n"
     ]
    },
    {
     "name": "stderr",
     "output_type": "stream",
     "text": [
      "2024-03-18 09:49:08.186 Python[1629:38206] WARNING: Secure coding is not enabled for restorable state! Enable secure coding by implementing NSApplicationDelegate.applicationSupportsSecureRestorableState: and returning YES.\n"
     ]
    }
   ],
   "source": [
    "#function for login \n",
    "def login():\n",
    "    username = input('Enter username start with capital letter please): ')\n",
    "    try:\n",
    "        pword = int(input('Enter password: '))\n",
    "    except ValueError:\n",
    "        print(\"Error: Password must be an integer.\")\n",
    "\n",
    "    \n",
    "    #getting index of user if user exists\n",
    "    validUser = verify(firstNames, username)\n",
    "    \n",
    "    #ending process if username is invalid\n",
    "    if(validUser == -1):\n",
    "        return \"Invalid Username. Process terminated\"\n",
    "\n",
    "    #userName is valid\n",
    "    \n",
    "    #getting lastname\n",
    "    surname = lastNames[validUser]\n",
    "\n",
    "    #verifying password\n",
    "    if(pword != password(surname)):\n",
    "        return \"Invalid password. Process terminated\"\n",
    "\n",
    "    print(username+\" \"+surname + \" logged in successfully\")\n",
    "\n",
    "    #using the image function to end process if image cant be gotten\n",
    "    img = image(username)\n",
    "    if img is None:\n",
    "        return \"Error: Could not read the image.\"\n",
    "\n",
    "    #window name in which img is displayed\n",
    "    window_name = 'Display Image'\n",
    "\n",
    "    #Display image\n",
    "    cv2.imshow(window_name, img)\n",
    "\n",
    "    #Hold the window\n",
    "    cv2.waitKey(0)\n",
    "\n",
    "    #remove/delete created GUI window from screen and memory\n",
    "    cv2.destroyAllWindows()\n",
    "\n",
    "    return username+\" \"+surname + \" logged in successfully\"\n",
    "\n",
    "login()\n",
    "    "
   ]
  },
  {
   "cell_type": "code",
   "execution_count": null,
   "id": "85937957-8484-4399-b8a9-052c11643c4a",
   "metadata": {},
   "outputs": [],
   "source": []
  }
 ],
 "metadata": {
  "kernelspec": {
   "display_name": "Python 3 (ipykernel)",
   "language": "python",
   "name": "python3"
  },
  "language_info": {
   "codemirror_mode": {
    "name": "ipython",
    "version": 3
   },
   "file_extension": ".py",
   "mimetype": "text/x-python",
   "name": "python",
   "nbconvert_exporter": "python",
   "pygments_lexer": "ipython3",
   "version": "3.12.0"
  }
 },
 "nbformat": 4,
 "nbformat_minor": 5
}
