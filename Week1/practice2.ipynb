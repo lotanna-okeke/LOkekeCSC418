{
 "cells": [
  {
   "cell_type": "code",
   "execution_count": 1,
   "id": "8a62b93a-9613-4660-9670-7b29cd7ca959",
   "metadata": {},
   "outputs": [],
   "source": [
    "import cv2"
   ]
  },
  {
   "cell_type": "code",
   "execution_count": 2,
   "id": "72b676de-7bad-478a-93e5-93b93b5a570d",
   "metadata": {},
   "outputs": [],
   "source": [
    "path = 'img/food.jpeg'"
   ]
  },
  {
   "cell_type": "code",
   "execution_count": 3,
   "id": "aed06dc9-19c1-4229-8ed0-77637a74e115",
   "metadata": {},
   "outputs": [],
   "source": [
    "#reading an img in grayscale mode\n",
    "img = cv2.imread(path,0)"
   ]
  },
  {
   "cell_type": "code",
   "execution_count": 4,
   "id": "43ac7290-dd48-407a-8ccb-052990673f67",
   "metadata": {},
   "outputs": [],
   "source": [
    "# window name in which image is displayed\n",
    "window_name = 'VR Headset'"
   ]
  },
  {
   "cell_type": "code",
   "execution_count": 5,
   "id": "8481e878-a4de-4e78-a407-f9cff1dd2523",
   "metadata": {},
   "outputs": [],
   "source": [
    "cv2.imshow(window_name, img)"
   ]
  },
  {
   "cell_type": "code",
   "execution_count": null,
   "id": "cdaec44a-ea84-47d3-905f-1a8469752104",
   "metadata": {},
   "outputs": [
    {
     "name": "stderr",
     "output_type": "stream",
     "text": [
      "2024-03-17 21:07:29.898 Python[2097:68719] WARNING: Secure coding is not enabled for restorable state! Enable secure coding by implementing NSApplicationDelegate.applicationSupportsSecureRestorableState: and returning YES.\n"
     ]
    }
   ],
   "source": [
    "cv2.waitKey(0)"
   ]
  },
  {
   "cell_type": "code",
   "execution_count": null,
   "id": "3e7c0811-df63-4f44-8434-2b41f75b1e07",
   "metadata": {},
   "outputs": [],
   "source": [
    "cv2.destroAllWindows()"
   ]
  },
  {
   "cell_type": "code",
   "execution_count": null,
   "id": "fb7abdeb-74e8-4ab3-8f2c-30c0792054d3",
   "metadata": {},
   "outputs": [],
   "source": []
  }
 ],
 "metadata": {
  "kernelspec": {
   "display_name": "Python 3 (ipykernel)",
   "language": "python",
   "name": "python3"
  },
  "language_info": {
   "codemirror_mode": {
    "name": "ipython",
    "version": 3
   },
   "file_extension": ".py",
   "mimetype": "text/x-python",
   "name": "python",
   "nbconvert_exporter": "python",
   "pygments_lexer": "ipython3",
   "version": "3.12.0"
  }
 },
 "nbformat": 4,
 "nbformat_minor": 5
}
