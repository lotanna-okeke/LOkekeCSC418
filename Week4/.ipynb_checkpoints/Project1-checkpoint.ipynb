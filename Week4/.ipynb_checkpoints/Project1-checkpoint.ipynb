{
 "cells": [
  {
   "cell_type": "code",
   "execution_count": 1,
   "id": "9f52bb9d-ef87-444c-9576-e3b5f246e515",
   "metadata": {},
   "outputs": [],
   "source": [
    "import cv2 as cv\n",
    "import matplotlib.pyplot as plt\n",
    "import numpy as np\n",
    "import os\n",
    "import re"
   ]
  },
  {
   "cell_type": "code",
   "execution_count": 2,
   "id": "e33c7ea9-2574-4284-96f7-0eb570f3de64",
   "metadata": {},
   "outputs": [],
   "source": [
    "def list_folder_contents(folder_path, name):\n",
    "    try:\n",
    "        contents = os.listdir(folder_path)\n",
    "        print(\"Contents of \" + name + \" folder:\")\n",
    "        for item in contents:\n",
    "            print(item)\n",
    "    except FileNotFoundError:\n",
    "        print(f\"Error: Folder '{folder_path}' not found.\")\n",
    "    except PermissionError:\n",
    "        print(f\"Error: Permission denied for folder '{folder_path}'.\")\n",
    "\n",
    "# Example usage:\n",
    "# folder_path = 'img/traditional'\n",
    "# list_folder_contents(folder_path)\n"
   ]
  },
  {
   "cell_type": "code",
   "execution_count": 3,
   "id": "5d83918a-8e2c-49a3-a72b-14e4634e2b41",
   "metadata": {},
   "outputs": [],
   "source": [
    "#function to get image format\n",
    "def image(name):\n",
    "    path = 'img/' + name + '.jpg'\n",
    "    img = cv.imread(path)\n",
    "    \n",
    "    formats = ['png', 'jpeg', 'jpg']\n",
    "    for i in formats:\n",
    "        #to ensure we get the write format in file\n",
    "        path = 'img/' + name + '.' + i\n",
    "        img = cv.imread(path,0)\n",
    "        #use this to display img in grayscale mode\n",
    "        # img = cv2.imread(path,0)\n",
    "        if img is None:\n",
    "            continue\n",
    "        else:\n",
    "            break\n",
    "\n",
    "    return img"
   ]
  },
  {
   "cell_type": "code",
   "execution_count": 4,
   "id": "9c15eb19-2717-4205-9099-d78cda75ef7a",
   "metadata": {},
   "outputs": [],
   "source": [
    "def plotOriginal(image):\n",
    "    #plot the original img\n",
    "    plt.subplot(1,2,1)\n",
    "    plt.title(\"original\")\n",
    "    plt.imshow(image)"
   ]
  },
  {
   "cell_type": "code",
   "execution_count": 5,
   "id": "d91db483-ab0a-4645-bd96-71073deee7aa",
   "metadata": {},
   "outputs": [],
   "source": [
    "def plotOthers(image,title):\n",
    "    plt.subplot(1,2,2)\n",
    "    plt.title(title)\n",
    "    plt.imshow(image)"
   ]
  },
  {
   "cell_type": "code",
   "execution_count": 6,
   "id": "ca408ed3-1fd4-4005-b387-5cf9878ed921",
   "metadata": {},
   "outputs": [],
   "source": [
    "def translation(img):\n",
    "    rows, cols = img.shape\n",
    "    x = int(input(\"Enter the x-axis translation value\"))\n",
    "    y = int(input(\"Enter the y-axis translation value\"))\n",
    "\n",
    "    M = np.float32([[1,0,x],[0,1,y]])\n",
    "    image2 = cv.warpAffine(img, M, (cols, rows))\n",
    "\n",
    "    plotOthers(image2, \"Translated Image\")\n",
    "    return \"Process Successful\"\n"
   ]
  },
  {
   "cell_type": "code",
   "execution_count": 7,
   "id": "d3bb9dc7-5c4f-4a1b-810d-6e114c04e1b9",
   "metadata": {},
   "outputs": [],
   "source": [
    "def reflection(img):\n",
    "    rows, cols = img.shape\n",
    "    x = int(input(\"Enter:\\n1 to reflect by row or\\n2 for column\\n\"))\n",
    "    if(x==1):\n",
    "        reflect = rows\n",
    "    else:\n",
    "        reflect = cols\n",
    "    M = np.float32([[1,0,0],[0,-1,reflect],[0,0,1]])\n",
    "    image2 = cv.warpPerspective(img, M, (int(cols), int(rows)))\n",
    "\n",
    "    plotOthers(image2, \"Reflected Image\")\n",
    "    return \"Process Successful\""
   ]
  },
  {
   "cell_type": "code",
   "execution_count": 8,
   "id": "a191235a-5d8b-49c9-9142-e7c5ef026733",
   "metadata": {},
   "outputs": [],
   "source": [
    "def rotation(img):\n",
    "    rows, cols = img.shape\n",
    "    M = cv.getRotationMatrix2D((cols/2, rows/2), 30, 0.6)\n",
    "    image2 = cv.warpAffine(img, M, (cols, rows))\n",
    "\n",
    "    plotOthers(image2, \"Rotated Image\")\n",
    "    return \"Process Successful\""
   ]
  },
  {
   "cell_type": "code",
   "execution_count": 9,
   "id": "85c20ab5-661c-4197-95ab-02381cb1d910",
   "metadata": {},
   "outputs": [],
   "source": [
    "def cropping(img):\n",
    "    rows, cols = img.shape\n",
    "    x1 = int(input(\"Enter the x1 cropping value\"))\n",
    "    x2 = int(input(\"Enter the x2 cropping value\"))\n",
    "    y1 = int(input(\"Enter the y1 cropping value\"))\n",
    "    y2 = int(input(\"Enter the y2 cropping value\"))\n",
    "    image2 = img[x1:x2, y1:y2]\n",
    "\n",
    "    plotOthers(image2, \"Cropped Image\")\n",
    "    return \"Process Successful\""
   ]
  },
  {
   "cell_type": "code",
   "execution_count": 10,
   "id": "59e3f58e-c237-40fc-a0ea-52bb52c7ef7f",
   "metadata": {},
   "outputs": [],
   "source": [
    "def sheared_X(img):\n",
    "    rows, cols = img.shape\n",
    "    M = np.float32([[1, 0.5, 0], [0, 1, 0], [0,0,1]])\n",
    "    image2 = cv.warpPerspective(img, M, (int(cols*1.5), int(rows*1.5)))\n",
    "\n",
    "    plotOthers(image2, \"Sheared in X-Axis\")\n",
    "    return \"Process Successful\""
   ]
  },
  {
   "cell_type": "code",
   "execution_count": 11,
   "id": "9aeec1f3-edc0-4e44-8d04-9b4d9d1f56f4",
   "metadata": {},
   "outputs": [],
   "source": [
    "def sheared_Y(img):\n",
    "    rows, cols = img.shape\n",
    "    M = np.float32([[1, 0, 0], [0.5, 1, 0], [0,0,1]])\n",
    "    image2 = cv.warpPerspective(img, M, (int(cols*1.5), int(rows*1.5)))\n",
    "\n",
    "    plotOthers(image2, \"Sheared in Y-Axis\")\n",
    "    return \"Process Successful\""
   ]
  },
  {
   "cell_type": "code",
   "execution_count": 12,
   "id": "6d4ef4b2-2da8-4431-9abc-85ae6d5de216",
   "metadata": {},
   "outputs": [],
   "source": [
    "def blurring(img):\n",
    "    x = int(input(\"Enter:\\n1 to perform Gaussian Blurring\\n2 to perform Median Blurring\\n3 to perform Bilateral Blurring\\n\"))\n",
    "    if(x==1):\n",
    "        image2 = cv.GaussianBlur(img, (7, 7), 0)\n",
    "        plotOthers(image2, \"Gaussian Blurring\")\n",
    "    elif(x==2):\n",
    "        image2 = cv.medianBlur(img, 5)\n",
    "        plotOthers(image2, \"Median Blurring\")\n",
    "    elif(x==3):\n",
    "        image2 = cv.bilateralFilter(img, 9, 75, 75)\n",
    "        plotOthers(image2, \"Bilateral Blurring\")\n",
    "    else:\n",
    "        return 'invalid input'\n",
    "\n",
    "    \n",
    "    return \"Process Successful\""
   ]
  },
  {
   "cell_type": "code",
   "execution_count": 13,
   "id": "7277ae5f-75da-4587-b74d-f342fb383c52",
   "metadata": {},
   "outputs": [],
   "source": [
    "def getImage():\n",
    "    list_folder_contents('img', 'img')\n",
    "    folder = input(\"Enter the folder name from the above listed folder\")\n",
    "    dir = \"img/\"+folder\n",
    "    list_folder_contents(dir, folder)\n",
    "    name = input(\"Enter the picture name (WITHOUT THE FILE EXTENSION- ie .jpeg)\")\n",
    "    path = folder + \"/\" + name\n",
    "    print(path)\n",
    "    # img = \n",
    "    img = image(path)\n",
    "    if img is None:\n",
    "        return \"Error: Could not read the image.\"\n",
    "    # else:\n",
    "    #     return \"Yes\"\n",
    "\n",
    "    return img\n"
   ]
  },
  {
   "cell_type": "code",
   "execution_count": 14,
   "id": "db26e4f2-c68f-4848-89bb-eeeb1e37d121",
   "metadata": {},
   "outputs": [],
   "source": [
    "def is_valid_email(email):\n",
    "    # Regular expression pattern for validating email addresses\n",
    "    pattern = r'^[a-zA-Z0-9._%+-]+@[a-zA-Z0-9.-]+\\.[a-zA-Z]{2,}$'\n",
    "    \n",
    "    # Check if the email matches the pattern\n",
    "    if re.match(pattern, email):\n",
    "        return True\n",
    "    else:\n",
    "        return False"
   ]
  },
  {
   "cell_type": "code",
   "execution_count": 15,
   "id": "d41d157c-5b81-4b14-bc50-9e3edd7bbedb",
   "metadata": {},
   "outputs": [],
   "source": [
    "def operation(img):\n",
    "    operation = int(input('Enter a number to perform an operation: \\n1 to translate image,\\n2 to reflect images,\\n3 to rotate images,\\n4 to crop, \\n5 to shear in X-axis, \\n6 to shear in Y-axis, \\n7 to blur image\\n'))\n",
    "    plotOriginal(img)\n",
    "    if(operation == 1):\n",
    "        translation(img)\n",
    "    elif(operation == 2):\n",
    "        reflection(img)\n",
    "    elif(operation == 3):\n",
    "        rotation(img)\n",
    "    elif(operation == 4):\n",
    "        cropping(img)\n",
    "    elif(operation == 5):\n",
    "        sheared_X(img)\n",
    "    elif(operation == 6):\n",
    "        sheared_Y(img)\n",
    "    elif(operation == 7):\n",
    "        blurring(img)\n",
    "    else:\n",
    "        return \"invalid input\""
   ]
  },
  {
   "cell_type": "code",
   "execution_count": null,
   "id": "487b3712-b17d-4c05-8874-66ee5d15d786",
   "metadata": {},
   "outputs": [
    {
     "name": "stdin",
     "output_type": "stream",
     "text": [
      "Enter email address:  lotanna@gmail.com\n",
      "Enter age:  19\n"
     ]
    },
    {
     "name": "stdout",
     "output_type": "stream",
     "text": [
      "lotanna@gmail.com logged in successfully\n",
      "Contents of img folder:\n",
      ".DS_Store\n",
      "Traditional\n",
      "Modern\n",
      "Contemporary\n"
     ]
    }
   ],
   "source": [
    "def login():\n",
    "    email = input('Enter email address: ')\n",
    "\n",
    "     # if invalid email\n",
    "    if not is_valid_email(email):\n",
    "        return \"invalid email\"\n",
    "\n",
    "    \n",
    "    age = int(input('Enter age: '))  \n",
    "    \n",
    "    #ending process if age is invalid\n",
    "    if(age < 18):\n",
    "        return \"Invalid Age. Process terminated\"\n",
    "\n",
    "    #Age is valid\n",
    "\n",
    "    print(email+\" logged in successfully\")\n",
    "\n",
    "    #using the image function to end process if image cant be gotten\n",
    "    img = getImage()\n",
    "    if img is None:\n",
    "        return \"Error: Could not read the image.\"\n",
    "\n",
    "    operation(img)\n",
    "\n",
    "    #remove/delete created GUI window from screen and memory\n",
    "    cv.destroyAllWindows()\n",
    "\n",
    "    return email+ \" logged in successfully\"\n",
    "\n",
    "login()\n"
   ]
  },
  {
   "cell_type": "code",
   "execution_count": null,
   "id": "6d8ae89c-f2ff-4b21-a4c9-ee859925745b",
   "metadata": {},
   "outputs": [],
   "source": []
  }
 ],
 "metadata": {
  "kernelspec": {
   "display_name": "Python 3 (ipykernel)",
   "language": "python",
   "name": "python3"
  },
  "language_info": {
   "codemirror_mode": {
    "name": "ipython",
    "version": 3
   },
   "file_extension": ".py",
   "mimetype": "text/x-python",
   "name": "python",
   "nbconvert_exporter": "python",
   "pygments_lexer": "ipython3",
   "version": "3.12.0"
  }
 },
 "nbformat": 4,
 "nbformat_minor": 5
}
