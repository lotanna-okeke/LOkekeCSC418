{
 "cells": [
  {
   "cell_type": "code",
   "execution_count": 4,
   "id": "f808402e-ec32-4169-a6a0-9a9de41130c3",
   "metadata": {},
   "outputs": [],
   "source": [
    "import cv2"
   ]
  },
  {
   "cell_type": "code",
   "execution_count": 5,
   "id": "c333f953-0055-4561-8f9d-f6af3fbc1a08",
   "metadata": {},
   "outputs": [],
   "source": [
    "#Load the pre-trained Haar Cascade face detection model\n",
    "face_cascade = cv2.CascadeClassifier(cv2.data.haarcascades + 'haarcascade_frontalface_default.xml')\n",
    "\n",
    "#Load the input image\n",
    "image = cv2.imread('img/tic.jpg')"
   ]
  },
  {
   "cell_type": "code",
   "execution_count": 6,
   "id": "39b1cd24-f1f8-486e-b3d6-8a4e9934e7af",
   "metadata": {},
   "outputs": [],
   "source": [
    "# resize images\n",
    "#image = cv2.resize(image, (770, 570))\n",
    "\n",
    "#Convert the image to grayscale\n",
    "gray_image = cv2.cvtColor(image, cv2.COLOR_BGR2GRAY)\n",
    "\n",
    "#Perform face detection\n",
    "faces = face_cascade.detectMultiScale(gray_image, scaleFactor = 1.3, minNeighbors=5, minSize=(10, 30))"
   ]
  },
  {
   "cell_type": "code",
   "execution_count": 7,
   "id": "b4c062e4-24c0-4347-b7d6-2ea5d37e8763",
   "metadata": {},
   "outputs": [],
   "source": [
    "#Draw bounding boxes around detected faces\n",
    "for (x,y,w,h) in faces:\n",
    "    cv2.rectangle(image, (x,y), (x+w, y+h), (0, 255, 0), 2)"
   ]
  },
  {
   "cell_type": "code",
   "execution_count": null,
   "id": "5f2c5692-c1dd-4472-bf82-6b37c6dfb7c3",
   "metadata": {},
   "outputs": [
    {
     "name": "stderr",
     "output_type": "stream",
     "text": [
      "2024-04-22 21:51:28.447 Python[7637:407565] WARNING: Secure coding is not enabled for restorable state! Enable secure coding by implementing NSApplicationDelegate.applicationSupportsSecureRestorableState: and returning YES.\n"
     ]
    }
   ],
   "source": [
    "#Display the output image\n",
    "cv2.imshow('Face Detection', image)\n",
    "cv2.waitKey(0)\n",
    "cv2.destroyAllWindows()"
   ]
  },
  {
   "cell_type": "code",
   "execution_count": null,
   "id": "d839d927-879f-447d-b386-affeb853ba6e",
   "metadata": {},
   "outputs": [],
   "source": []
  }
 ],
 "metadata": {
  "kernelspec": {
   "display_name": "Python 3 (ipykernel)",
   "language": "python",
   "name": "python3"
  },
  "language_info": {
   "codemirror_mode": {
    "name": "ipython",
    "version": 3
   },
   "file_extension": ".py",
   "mimetype": "text/x-python",
   "name": "python",
   "nbconvert_exporter": "python",
   "pygments_lexer": "ipython3",
   "version": "3.12.0"
  }
 },
 "nbformat": 4,
 "nbformat_minor": 5
}
