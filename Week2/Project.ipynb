{
 "cells": [
  {
   "cell_type": "code",
   "execution_count": 1,
   "id": "9f52bb9d-ef87-444c-9576-e3b5f246e515",
   "metadata": {},
   "outputs": [],
   "source": [
    "import cv2\n",
    "import matplotlib.pyplot as plt\n",
    "import numpy as np"
   ]
  },
  {
   "cell_type": "code",
   "execution_count": 2,
   "id": "e33c7ea9-2574-4284-96f7-0eb570f3de64",
   "metadata": {},
   "outputs": [],
   "source": [
    "#using an array of string to store the names\n",
    "firstNames = ['fatima','aj','kobi','wendy','sophia','yinda','tete','sope','keisha','george']\n",
    "matnos = ['0000','1111','2222','3333','4444','5555','6666','7777','8888','9999']"
   ]
  },
  {
   "cell_type": "code",
   "execution_count": 3,
   "id": "01b3488c-29e2-40f4-b739-fcc5bf893968",
   "metadata": {},
   "outputs": [],
   "source": [
    "#function to get username index\n",
    "def verify(arr, target):\n",
    "    try:\n",
    "        index = arr.index(target)\n",
    "        return index\n",
    "    except ValueError:\n",
    "        return -1"
   ]
  },
  {
   "cell_type": "code",
   "execution_count": 4,
   "id": "5d83918a-8e2c-49a3-a72b-14e4634e2b41",
   "metadata": {},
   "outputs": [],
   "source": [
    "#function to get image format\n",
    "def image(name):\n",
    "    path = 'img/' + name + '.jpeg'\n",
    "    img = cv2.imread(path)\n",
    "    \n",
    "    formats = ['png', 'jpeg', 'jpg']\n",
    "    for i in formats:\n",
    "        #to ensure we get the write format in file\n",
    "        path = 'img/' + name + '.' + i\n",
    "        img = cv2.imread(path,0)\n",
    "        #use this to display img in grayscale mode\n",
    "        # img = cv2.imread(path,0)\n",
    "        if img is None:\n",
    "            continue\n",
    "        else:\n",
    "            break\n",
    "\n",
    "    return img"
   ]
  },
  {
   "cell_type": "code",
   "execution_count": 5,
   "id": "9c15eb19-2717-4205-9099-d78cda75ef7a",
   "metadata": {},
   "outputs": [],
   "source": [
    "def plotOriginal(image):\n",
    "    #plot the original img\n",
    "    plt.subplot(1,2,1)\n",
    "    plt.title(\"original\")\n",
    "    plt.imshow(image)"
   ]
  },
  {
   "cell_type": "code",
   "execution_count": 6,
   "id": "d91db483-ab0a-4645-bd96-71073deee7aa",
   "metadata": {},
   "outputs": [],
   "source": [
    "def plotOthers(image,title):\n",
    "    plt.subplot(1,2,2)\n",
    "    plt.title(title)\n",
    "    plt.imshow(image)"
   ]
  },
  {
   "cell_type": "code",
   "execution_count": 7,
   "id": "6808ac40-1a6b-40e6-87a5-2b1ef6dd19ea",
   "metadata": {},
   "outputs": [],
   "source": [
    "def visualiseColorSpaces(image):\n",
    "    channel = int(input('Enter: \\n1 to see blue,\\n2 to see green, \\n3 to see red\\n'))\n",
    "    B,G,R = cv2.split(image)\n",
    "    if(channel == 1):\n",
    "        plotOthers(B,\"Blue\")\n",
    "    elif(channel == 2):\n",
    "        plotOthers(G,\"Green\")\n",
    "    elif(channel == 3):\n",
    "        plotOthers(R,\"Red\")\n",
    "    else:\n",
    "        return \"Entered invalid value, Process terminated\"\n",
    "    return \"Process successful\""
   ]
  },
  {
   "cell_type": "code",
   "execution_count": 8,
   "id": "46a9e32e-9f42-4074-b681-3f30d7da21c1",
   "metadata": {},
   "outputs": [],
   "source": [
    "def addition(image1):\n",
    "    image2 = cv2.imread('img/lotanna.jpeg')\n",
    "\n",
    "    image1 = cv2.resize(image1, (500,400))\n",
    "    image2 = cv2.resize(image2, (500,400))\n",
    "\n",
    "    addImage = cv2.addWeighted(image1, 0.5, image2, 0.5, 0)\n",
    "\n",
    "    plotOthers(addImage,\"Addition\")"
   ]
  },
  {
   "cell_type": "code",
   "execution_count": 9,
   "id": "c9632c92-19c4-44be-ab57-7a4bbcfb2023",
   "metadata": {},
   "outputs": [],
   "source": [
    "def subtraction(image1):\n",
    "    image2 = cv2.imread('img/lotanna.jpeg')\n",
    "\n",
    "    image1 = cv2.resize(image1, (500,400))\n",
    "    image2 = cv2.resize(image2, (500,400))\n",
    "\n",
    "    sub = cv2.subtract(image1, image2)\n",
    "\n",
    "    plotOthers(sub,\"Subtraction\")\n",
    "    return \"Process successful\"\n",
    "    "
   ]
  },
  {
   "cell_type": "code",
   "execution_count": 10,
   "id": "d2374a96-e4ed-4c1e-96c5-fdf6563ab33d",
   "metadata": {},
   "outputs": [],
   "source": [
    "def brightnessAndContrast(image):\n",
    "    brightness = 5\n",
    "    contrast = 1.5\n",
    "    image2 = cv2.addWeighted(image, contrast, np.zeros(image.shape, image.dtype), 0, brightness)\n",
    "\n",
    "    #plot it\n",
    "    plotOthers(image2,\"Brightness and Contrast\")\n",
    "    return \"Process successful\""
   ]
  },
  {
   "cell_type": "code",
   "execution_count": 11,
   "id": "67c41710-0941-4437-ae1f-2e75a0094c76",
   "metadata": {},
   "outputs": [],
   "source": [
    "def sharpening(image):\n",
    "    kernel = np.array([[0,-1,0], [-1,5,-1], [0,-1,0]])\n",
    "    image2 = cv2.filter2D(image, -1, kernel)\n",
    "    plotOthers(image2,\"Sharpened\")\n",
    "    return \"Process successful\""
   ]
  },
  {
   "cell_type": "code",
   "execution_count": 12,
   "id": "487b7969-9a65-4b1c-a164-2332eb3ca2c7",
   "metadata": {},
   "outputs": [],
   "source": [
    "def removeNoise(image):\n",
    "    image2 = cv2.medianBlur(image, 15)\n",
    "    plotOthers(image2, \"MEDIAN Blur\")\n",
    "    return \"Process successful\"\n",
    "    "
   ]
  },
  {
   "cell_type": "code",
   "execution_count": 13,
   "id": "d7aef2ff-c90b-4479-9ed2-b2289b574ee9",
   "metadata": {},
   "outputs": [],
   "source": [
    "def scaling(image):\n",
    "    image2 = cv2.resize(image,None, fx=2, fy=2)\n",
    "    plotOthers(image2, \"Scaled\")\n",
    "    return \"Process successful\"\n",
    "    "
   ]
  },
  {
   "cell_type": "code",
   "execution_count": 14,
   "id": "df28255d-bb64-49c8-bd2b-bed63531a54d",
   "metadata": {},
   "outputs": [],
   "source": [
    "def inverse(image):\n",
    "    image2 = 255-image\n",
    "    plotOthers(image2, \"Inverse Color\")\n",
    "    return \"Process successful\"\n",
    "    "
   ]
  },
  {
   "cell_type": "code",
   "execution_count": null,
   "id": "99e08cb1-9195-401f-afd3-a40adeb4cc8a",
   "metadata": {},
   "outputs": [],
   "source": [
    "def login():\n",
    "    username = input('Enter username (all small letters): ')\n",
    "    matric = input('Enter matriculation number: ')\n",
    "\n",
    "    #getting index of user if user exists\n",
    "    validUser = verify(firstNames, username)\n",
    "    \n",
    "    #ending process if username is invalid\n",
    "    if(validUser == -1):\n",
    "        return \"Invalid Username. Process terminated\"\n",
    "\n",
    "    #userName is valid\n",
    "    \n",
    "    #getting lastname\n",
    "    userMat = matnos[validUser]\n",
    "\n",
    "    if(matric != userMat):\n",
    "        return \"Invalid password. Process terminated\"\n",
    "\n",
    "    print(username+\" \"+matric + \" logged in successfully\")\n",
    "\n",
    "    #using the image function to end process if image cant be gotten\n",
    "    img = image(username)\n",
    "    if img is None:\n",
    "        return \"Error: Could not read the image.\"\n",
    "\n",
    "    operation = int(input('Enter a number to perform an operation: \\n1 to visualise color spaces,\\n2 to add images,\\n3 to subtract images,\\n4 for brightness and contrast, \\n5 for sharpening, \\n6 to remove noise, \\n7 to scale and, \\n8 to inverse\\n'))\n",
    "    plotOriginal(img)\n",
    "    if(operation == 1):\n",
    "        visualiseColorSpaces(img)\n",
    "    elif(operation == 2):\n",
    "        addition(img)\n",
    "    elif(operation == 3):\n",
    "        subtraction(img)\n",
    "    elif(operation == 4):\n",
    "        brightnessAndContrast(img)\n",
    "    elif(operation == 5):\n",
    "        sharpening(img)\n",
    "    elif(operation == 6):\n",
    "        removeNoise(img)\n",
    "    elif(operation == 7):\n",
    "        scaling(img)\n",
    "    elif(operation == 8):\n",
    "        inverse(img)\n",
    "\n",
    "    #remove/delete created GUI window from screen and memory\n",
    "    cv2.destroyAllWindows()\n",
    "\n",
    "    return username+ \" logged in successfully\"\n",
    "\n",
    "login()\n"
   ]
  },
  {
   "cell_type": "code",
   "execution_count": null,
   "id": "6d8ae89c-f2ff-4b21-a4c9-ee859925745b",
   "metadata": {},
   "outputs": [],
   "source": []
  }
 ],
 "metadata": {
  "kernelspec": {
   "display_name": "Python 3 (ipykernel)",
   "language": "python",
   "name": "python3"
  },
  "language_info": {
   "codemirror_mode": {
    "name": "ipython",
    "version": 3
   },
   "file_extension": ".py",
   "mimetype": "text/x-python",
   "name": "python",
   "nbconvert_exporter": "python",
   "pygments_lexer": "ipython3",
   "version": "3.12.0"
  }
 },
 "nbformat": 4,
 "nbformat_minor": 5
}
